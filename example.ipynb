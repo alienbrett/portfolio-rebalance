{
 "cells": [
  {
   "cell_type": "code",
   "execution_count": 10,
   "id": "oriental-change",
   "metadata": {},
   "outputs": [],
   "source": [
    "import rebalance\n",
    "import numpy as np\n",
    "import matplotlib.pyplot as plt\n",
    "import pandas as pd"
   ]
  },
  {
   "cell_type": "code",
   "execution_count": 12,
   "id": "ranging-trade",
   "metadata": {},
   "outputs": [],
   "source": [
    "securities = ['appl', 'c', 'gs']\n",
    "\n",
    "# Desired allocation\n",
    "target = np.asarray([0.31, 0.18, 0.11])\n",
    "\n",
    "# Prices of assets\n",
    "px = np.asarray([100.0, 25.0, 3.22])\n",
    "\n",
    "# We have $1,000 to spend\n",
    "pf_value = 1_000\n",
    "\n",
    "# Hold 20% cash\n",
    "pct_cash = 0.2\n",
    "\n",
    "cash, shares = rebalance.optimal_portfolio(\n",
    "    px = px,\n",
    "    target = target,\n",
    "    market_value = pf_value,\n",
    "    pct_cash = pct_cash,\n",
    ")\n"
   ]
  },
  {
   "cell_type": "code",
   "execution_count": 44,
   "id": "assured-withdrawal",
   "metadata": {},
   "outputs": [
    {
     "name": "stdout",
     "output_type": "stream",
     "text": [
      "      shares   price  value\n",
      "appl     4.0  100.00  400.0\n",
      "c        8.0   25.00  200.0\n",
      "gs      45.0    3.22  144.9\n",
      "cash   255.1    1.00  255.1\n"
     ]
    },
    {
     "data": {
      "image/png": "[encoded data removed]",
      "text/plain": [
       "<Figure size 432x288 with 1 Axes>"
      ]
     },
     "metadata": {},
     "output_type": "display_data"
    }
   ],
   "source": [
    "pf = pd.DataFrame(\n",
    "    index=securities + ['cash'],\n",
    "    data={\n",
    "        'shares': list(shares) + [cash],\n",
    "        'price': px.tolist() + [1.0],\n",
    "    }\n",
    ")\n",
    "pf['value'] = pf['shares'] * pf['price']\n",
    "\n",
    "print(pf)\n",
    "\n",
    "plt.pie(\n",
    "    pf['value'],\n",
    "    explode = [0.05] * len(pf),\n",
    "    labels = pf.index,\n",
    ")\n",
    "plt.gca().set_title('Allocation')\n",
    "plt.plot()\n",
    "None"
   ]
  },
  {
   "cell_type": "code",
   "execution_count": null,
   "id": "subtle-picture",
   "metadata": {},
   "outputs": [],
   "source": []
  }
 ],
 "metadata": {
  "kernelspec": {
   "display_name": "Python 3",
   "language": "python",
   "name": "python3"
  },
  "language_info": {
   "codemirror_mode": {
    "name": "ipython",
    "version": 3
   },
   "file_extension": ".py",
   "mimetype": "text/x-python",
   "name": "python",
   "nbconvert_exporter": "python",
   "pygments_lexer": "ipython3",
   "version": "3.7.10"
  }
 },
 "nbformat": 4,
 "nbformat_minor": 5
}
